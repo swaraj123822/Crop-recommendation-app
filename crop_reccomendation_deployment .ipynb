{
 "cells": [
  {
   "cell_type": "code",
   "execution_count": 6,
   "id": "1bc3a911-cd78-4161-bda0-b00b092afd18",
   "metadata": {},
   "outputs": [
    {
     "name": "stdout",
     "output_type": "stream",
     "text": [
      "label\n",
      "rice           100\n",
      "maize          100\n",
      "chickpea       100\n",
      "kidneybeans    100\n",
      "pigeonpeas     100\n",
      "mothbeans      100\n",
      "mungbean       100\n",
      "blackgram      100\n",
      "lentil         100\n",
      "pomegranate    100\n",
      "banana         100\n",
      "mango          100\n",
      "grapes         100\n",
      "watermelon     100\n",
      "muskmelon      100\n",
      "apple          100\n",
      "orange         100\n",
      "papaya         100\n",
      "coconut        100\n",
      "cotton         100\n",
      "jute           100\n",
      "coffee         100\n",
      "Name: count, dtype: int64\n"
     ]
    }
   ],
   "source": [
    "import pandas as pd\n",
    "import pickle\n",
    "import os\n",
    "from sklearn.model_selection import train_test_split\n",
    "from sklearn.ensemble import RandomForestClassifier\n",
    "from sklearn.pipeline import Pipeline\n",
    "from sklearn.preprocessing import LabelEncoder, StandardScaler\n",
    "from sklearn.metrics import accuracy_score\n",
    "\n",
    "# Load Data\n",
    "data = pd.read_csv('Crop_recommendation.csv')\n",
    "va = data['label'].value_counts()\n",
    "print(va)"
   ]
  },
  {
   "cell_type": "code",
   "execution_count": 7,
   "id": "f9df1a3e-4436-4caf-b511-1904a175faa9",
   "metadata": {},
   "outputs": [
    {
     "name": "stdout",
     "output_type": "stream",
     "text": [
      "Predicted Crops: ['muskmelon' 'watermelon' 'papaya' 'papaya' 'apple' 'mango' 'apple'\n",
      " 'mothbeans' 'mungbean' 'lentil']\n",
      "Random Forest Model Accuracy Score: 0.9788\n"
     ]
    }
   ],
   "source": [
    "le = LabelEncoder()\n",
    "data['label'] = le.fit_transform(data['label'])  \n",
    "\n",
    "X = data.drop('label', axis=1)\n",
    "y = data['label']\n",
    "\n",
    "\n",
    "X_train, X_test, y_train, y_test = train_test_split(X, y, test_size=0.30, random_state=42)\n",
    "\n",
    "\n",
    "pipeline = Pipeline([\n",
    "    ('scaler', StandardScaler()),  # Standardize Input Features\n",
    "    ('model', RandomForestClassifier(n_estimators=100, max_depth=6))\n",
    "])\n",
    "\n",
    "# Train Pipeline\n",
    "pipeline.fit(X_train, y_train)\n",
    "\n",
    "\n",
    "y_pred = pipeline.predict(X_test)\n",
    "accuracy = accuracy_score(y_test, y_pred)\n",
    "\n",
    "# Convert Predictions Back to Crop Names\n",
    "y_pred_labels = le.inverse_transform(y_pred)\n",
    "\n",
    "print(\"Predicted Crops:\", y_pred_labels[:10])\n",
    "print(f'Random Forest Model Accuracy Score: {accuracy:.4f}')"
   ]
  },
  {
   "cell_type": "code",
   "execution_count": 8,
   "id": "7c807104-f708-4f75-9ec2-045c2fa699c7",
   "metadata": {},
   "outputs": [
    {
     "name": "stdout",
     "output_type": "stream",
     "text": [
      "Cross-Validation Scores: [0.99350649 0.98051948 1.         0.98701299 1.         0.98051948\n",
      " 0.98701299 1.         0.99350649 0.96103896]\n",
      "Mean CV Accuracy: 0.9883116883116884\n",
      "Standard Deviation CV Accuracy: 0.01154310963287739\n"
     ]
    }
   ],
   "source": [
    "from sklearn.model_selection import cross_val_score, KFold\n",
    "\n",
    "kf = KFold(n_splits=10, shuffle=True, random_state=42)  # 5-fold cross-validation\n",
    "cv_scores = cross_val_score(pipeline, X_train, y_train, cv=kf, scoring='accuracy')\n",
    "\n",
    "print(\"Cross-Validation Scores:\", cv_scores)\n",
    "print(\"Mean CV Accuracy:\", cv_scores.mean())\n",
    "print(\"Standard Deviation CV Accuracy:\", cv_scores.std())"
   ]
  },
  {
   "cell_type": "code",
   "execution_count": 9,
   "id": "9f9e98a3-d1c3-4178-bcaa-8203cc257e11",
   "metadata": {},
   "outputs": [
    {
     "name": "stdout",
     "output_type": "stream",
     "text": [
      "Stratified CV Scores: [0.99675325 0.97077922 0.98701299 0.98701299 0.99025974]\n",
      "Mean Stratified CV Accuracy: 0.9863636363636363\n"
     ]
    }
   ],
   "source": [
    "from sklearn.model_selection import StratifiedKFold\n",
    "\n",
    "skf = StratifiedKFold(n_splits=5, shuffle=True, random_state=42)\n",
    "cv_scores = cross_val_score(pipeline, X_train, y_train, cv=skf, scoring='accuracy')\n",
    "\n",
    "print(\"Stratified CV Scores:\", cv_scores)\n",
    "print(\"Mean Stratified CV Accuracy:\", cv_scores.mean())"
   ]
  },
  {
   "cell_type": "markdown",
   "id": "2b3872ce-d64d-4eb5-a89b-4866917d7a2d",
   "metadata": {},
   "source": [
    "## hyperparameter tuning "
   ]
  },
  {
   "cell_type": "code",
   "execution_count": 10,
   "id": "ae4fd14e-d1b3-46d6-a9ef-56adfc35cdd1",
   "metadata": {},
   "outputs": [
    {
     "name": "stdout",
     "output_type": "stream",
     "text": [
      "Best Parameters: {'model__max_depth': 7, 'model__n_estimators': 200}\n",
      "Best Accuracy: 0.990909090909091\n"
     ]
    }
   ],
   "source": [
    "from sklearn.model_selection import GridSearchCV\n",
    "\n",
    "param_grid = {\n",
    "    'model__n_estimators': [50, 100, 200],\n",
    "    'model__max_depth': [5, 6, 7],\n",
    "}\n",
    "\n",
    "grid_search = GridSearchCV(pipeline, param_grid, cv=skf, scoring='accuracy')\n",
    "grid_search.fit(X_train, y_train)\n",
    "\n",
    "print(\"Best Parameters:\", grid_search.best_params_)\n",
    "best_pipeline = grid_search.best_estimator_\n",
    "y_pred_best = best_pipeline.predict(X_test)\n",
    "print(\"Best Accuracy:\", accuracy_score(y_test, y_pred_best))"
   ]
  },
  {
   "cell_type": "markdown",
   "id": "df804357-622c-4e25-b161-686faf8a3ba8",
   "metadata": {},
   "source": [
    "## sample data prediction"
   ]
  },
  {
   "cell_type": "code",
   "execution_count": 11,
   "id": "afbc4b60-5443-49c3-8a2e-0f17a425d90f",
   "metadata": {},
   "outputs": [
    {
     "name": "stdout",
     "output_type": "stream",
     "text": [
      "Recommended Crop: watermelon\n"
     ]
    },
    {
     "name": "stderr",
     "output_type": "stream",
     "text": [
      "c:\\Users\\swara\\.anaconda\\EccoFarmAssist\\Crop_reccomendation_work_space\\crop_env\\Lib\\site-packages\\sklearn\\utils\\validation.py:2749: UserWarning: X does not have valid feature names, but StandardScaler was fitted with feature names\n",
      "  warnings.warn(\n"
     ]
    }
   ],
   "source": [
    "import numpy as np\n",
    "sample_data = np.array([ [ 1150, 12, 43, 36, 35.95, 30.9, 50] ])\n",
    "\n",
    "# Predict Crop Recommendation\n",
    "predicted_label = best_pipeline.predict(sample_data)\n",
    "crop_name = le.inverse_transform(predicted_label)[0]  # Extract the single string\n",
    "\n",
    "print(f\"Recommended Crop: {crop_name}\")"
   ]
  },
  {
   "cell_type": "code",
   "execution_count": 12,
   "id": "76339a36-f293-4b9a-98c8-c902545939e9",
   "metadata": {},
   "outputs": [
    {
     "name": "stdout",
     "output_type": "stream",
     "text": [
      "Sample 1: Predicted = rice, Expected = rice\n",
      "Sample 2: Predicted = rice, Expected = maize\n",
      "Sample 3: Predicted = chickpea, Expected = chickpea\n",
      "Sample 4: Predicted = kidneybeans, Expected = kidneybeans\n",
      "Sample 5: Predicted = watermelon, Expected = watermelon\n",
      "Sample 6: Predicted = papaya, Expected = muskmelon\n",
      "Sample 7: Predicted = apple, Expected = apple\n",
      "Sample 8: Predicted = mango, Expected = mango\n",
      "Sample 9: Predicted = coffee, Expected = coffee\n",
      "Sample 10: Predicted = cotton, Expected = cotton\n"
     ]
    }
   ],
   "source": [
    "import numpy as np\n",
    "import pandas as pd\n",
    "\n",
    "# Your sample inputs\n",
    "samples = np.array([\n",
    "    [90, 42, 43, 20.88, 82.00, 6.50, 202.94],      # Rice\n",
    "    [60, 55, 44, 23.00, 82.32, 6.80, 263.96],      # Maize\n",
    "    [40, 60, 80, 18.87, 14.65, 7.13, 67.63],       # Chickpea\n",
    "    [3, 76, 8, 20.82, 17.85, 6.72, 79.21],         # Kidneybeans\n",
    "    [100, 10, 50, 25.59, 94.73, 6.45, 112.36],     # Watermelon\n",
    "    [120, 20, 50, 27.95, 92.34, 6.63, 97.57],      # Muskmelon\n",
    "    [20, 130, 200, 22.94, 92.40, 5.58, 104.63],    # Apple\n",
    "    [20, 30, 30, 31.21, 50.35, 5.98, 94.70],       # Mango\n",
    "    [100, 20, 30, 25.63, 58.76, 6.79, 162.58],     # Coffee\n",
    "    [120, 40, 20, 23.85, 79.64, 7.35, 117.43]      # Cotton\n",
    "])\n",
    "\n",
    "expected_crops = [\n",
    "    'rice', 'maize', 'chickpea', 'kidneybeans', 'watermelon',\n",
    "    'muskmelon', 'apple', 'mango', 'coffee', 'cotton'\n",
    "]\n",
    "\n",
    "# Convert to DataFrame with feature names (to avoid warnings)\n",
    "feature_names = ['N', 'P', 'K', 'temperature', 'humidity', 'ph', 'rainfall']  # Adjust if your column names differ\n",
    "samples_df = pd.DataFrame(samples, columns=feature_names)\n",
    "\n",
    "# Predict using your trained best_pipeline\n",
    "predictions = best_pipeline.predict(samples_df)\n",
    "crop_names = le.inverse_transform(predictions)\n",
    "\n",
    "# Display results\n",
    "for i, (pred, expected) in enumerate(zip(crop_names, expected_crops)):\n",
    "    print(f\"Sample {i+1}: Predicted = {pred}, Expected = {expected}\")"
   ]
  },
  {
   "cell_type": "code",
   "execution_count": 16,
   "id": "31728130-7ff0-4d54-b4c4-2c29251df7a9",
   "metadata": {},
   "outputs": [
    {
     "name": "stdout",
     "output_type": "stream",
     "text": [
      "1.7.1\n"
     ]
    }
   ],
   "source": [
    "import sklearn\n",
    "print(sklearn.__version__)\n",
    "# Load the Standalone Model\n",
    "# with open(\"model_artifacts/final_model.pkl\", \"rb\") as model_file:\n",
    "#     pipeline, le = pickle.load(model_file)\n",
    "\n",
    "# Example Input Data (N, P, K, Temperature, Humidity, pH, Rainfall)\n"
   ]
  },
  {
   "cell_type": "code",
   "execution_count": 18,
   "id": "bc4d543e-3767-4b0f-9862-906c1d7a47e4",
   "metadata": {},
   "outputs": [
    {
     "name": "stdout",
     "output_type": "stream",
     "text": [
      "Final Model (with Preprocessing) Saved Successfully as 'final_model.joblib'!\n"
     ]
    }
   ],
   "source": [
    "import joblib\n",
    "\n",
    "joblib.dump((best_pipeline), \"model_artifacts/model.joblib\")\n",
    "joblib.dump((le),\"model_artifacts/le.joblib\")\n",
    "print(\"Final Model (with Preprocessing) Saved Successfully as 'final_model.joblib'!\")"
   ]
  },
  {
   "cell_type": "markdown",
   "id": "7104901b-7406-4780-8948-6bc51d61c3a4",
   "metadata": {},
   "source": [
    "## further testing of model"
   ]
  },
  {
   "cell_type": "code",
   "execution_count": null,
   "id": "07b15539-61fb-4212-86a5-8c6ba5f324bb",
   "metadata": {},
   "outputs": [
    {
     "name": "stdout",
     "output_type": "stream",
     "text": [
      "Predicted Crops (first 10): ['muskmelon' 'watermelon' 'papaya' 'papaya' 'apple' 'mango' 'apple'\n",
      " 'mothbeans' 'mungbean' 'lentil']\n",
      "Random Forest Model Accuracy Score: 0.9788\n",
      "Cross-Validation Scores: [0.98701299 0.99025974 0.99025974 0.99675325 0.98701299]\n",
      "Mean CV Accuracy: 0.9902597402597403\n",
      "Standard Deviation CV Accuracy: 0.003556639983799771\n",
      "Stratified CV Scores: [0.99675325 0.97077922 0.99675325 0.97727273 0.99675325]\n",
      "Mean Stratified CV Accuracy: 0.9876623376623378\n",
      "Best Parameters: {'model__max_depth': 7, 'model__n_estimators': 200}\n",
      "Best Accuracy on Test Set: 0.9878787878787879\n",
      "Predicted Label (encoded): [20]\n",
      "Label Encoder Classes: ['apple' 'banana' 'blackgram' 'chickpea' 'coconut' 'coffee' 'cotton'\n",
      " 'grapes' 'jute' 'kidneybeans' 'lentil' 'maize' 'mango' 'mothbeans'\n",
      " 'mungbean' 'muskmelon' 'orange' 'papaya' 'pigeonpeas' 'pomegranate'\n",
      " 'rice' 'watermelon']\n",
      "Recommended Crop: rice\n"
     ]
    }
   ],
   "source": [
    "import pandas as pd\n",
    "import numpy as np\n",
    "from sklearn.model_selection import train_test_split, KFold, StratifiedKFold, GridSearchCV\n",
    "from sklearn.ensemble import RandomForestClassifier\n",
    "from sklearn.pipeline import Pipeline\n",
    "from sklearn.preprocessing import LabelEncoder, StandardScaler\n",
    "from sklearn.metrics import accuracy_score\n",
    "\n",
    "# Load Data\n",
    "data = pd.read_csv('Crop_recommendation.csv')\n",
    "\n",
    "# Encode the target variable\n",
    "le = LabelEncoder()\n",
    "data['label'] = le.fit_transform(data['label'])\n",
    "\n",
    "# Split features and target\n",
    "X = data.drop('label', axis=1)\n",
    "y = data['label']\n",
    "\n",
    "# Train-test split\n",
    "X_train, X_test, y_train, y_test = train_test_split(X, y, test_size=0.30, random_state=42)\n",
    "\n",
    "# Define pipeline\n",
    "pipeline = Pipeline([\n",
    "    ('scaler', StandardScaler()),\n",
    "    ('model', RandomForestClassifier(n_estimators=100, max_depth=6))\n",
    "])\n",
    "\n",
    "# Train initial pipeline\n",
    "pipeline.fit(X_train, y_train)\n",
    "\n",
    "# Evaluate initial model\n",
    "y_pred = pipeline.predict(X_test)\n",
    "accuracy = accuracy_score(y_test, y_pred)\n",
    "y_pred_labels = le.inverse_transform(y_pred)\n",
    "print(\"Predicted Crops (first 10):\", y_pred_labels[:10])\n",
    "print(f'Random Forest Model Accuracy Score: {accuracy:.4f}')\n",
    "\n",
    "# K-Fold Cross-Validation\n",
    "kf = KFold(n_splits=5, shuffle=True, random_state=42)\n",
    "cv_scores = cross_val_score(pipeline, X_train, y_train, cv=kf, scoring='accuracy')\n",
    "print(\"Cross-Validation Scores:\", cv_scores)\n",
    "print(\"Mean CV Accuracy:\", cv_scores.mean())\n",
    "print(\"Standard Deviation CV Accuracy:\", cv_scores.std())\n",
    "\n",
    "# Stratified K-Fold Cross-Validation\n",
    "skf = StratifiedKFold(n_splits=5, shuffle=True, random_state=42)\n",
    "cv_scores = cross_val_score(pipeline, X_train, y_train, cv=skf, scoring='accuracy')\n",
    "print(\"Stratified CV Scores:\", cv_scores)\n",
    "print(\"Mean Stratified CV Accuracy:\", cv_scores.mean())\n",
    "\n",
    "# Grid Search\n",
    "param_grid = {\n",
    "    'model__n_estimators': [50, 100, 200],\n",
    "    'model__max_depth': [5, 6, 7],\n",
    "}\n",
    "grid_search = GridSearchCV(pipeline, param_grid, cv=skf, scoring='accuracy')\n",
    "grid_search.fit(X_train, y_train)\n",
    "print(\"Best Parameters:\", grid_search.best_params_)\n",
    "\n",
    "# Best model evaluation\n",
    "best_pipeline = grid_search.best_estimator_\n",
    "y_pred_best = best_pipeline.predict(X_test)\n",
    "print(\"Best Accuracy on Test Set:\", accuracy_score(y_test, y_pred_best))\n",
    "\n",
    "# Sample Prediction with DataFrame to avoid warnings\n",
    "feature_names = X.columns\n",
    "sample_data = np.array([[68, 58, 38, 23.223974, 83.033227, 6.336254, 221.209196]])\n",
    "sample_data_df = pd.DataFrame(sample_data, columns=feature_names)\n",
    "predicted_label = best_pipeline.predict(sample_data_df)\n",
    "crop_name = le.inverse_transform(predicted_label)[0]\n",
    "print(\"Predicted Label (encoded):\", predicted_label)\n",
    "print(\"Label Encoder Classes:\", le.classes_)\n",
    "print(f\"Recommended Crop: {crop_name}\")\n"
   ]
  },
  {
   "cell_type": "code",
   "execution_count": null,
   "id": "3b0fb834-59aa-4046-a472-9e4fe6c12d26",
   "metadata": {},
   "outputs": [
    {
     "name": "stdout",
     "output_type": "stream",
     "text": [
      "Recommended Crop (sample_data_raw): mango\n"
     ]
    },
    {
     "name": "stderr",
     "output_type": "stream",
     "text": [
      "c:\\Users\\swara\\anaconda3\\envs\\vertex-env\\lib\\site-packages\\sklearn\\base.py:465: UserWarning: X does not have valid feature names, but StandardScaler was fitted with feature names\n",
      "  warnings.warn(\n"
     ]
    }
   ],
   "source": [
    "sample_data_raw = np.array([[10,34\t,32,2.774637,66.413269\t,6.780064,177.774507]])\n",
    "# sample_data_raw_df = pd.DataFrame(sample_data_raw, columns=feature_names)\n",
    "predicted_label_raw = best_pipeline.predict(sample_data_raw)\n",
    "crop_name_raw = le.inverse_transform(predicted_label_raw)[0]\n",
    "print(f\"Recommended Crop (sample_data_raw): {crop_name_raw}\")"
   ]
  },
  {
   "cell_type": "code",
   "execution_count": null,
   "id": "869754db-ce98-45da-871d-ad5e560d3b2d",
   "metadata": {},
   "outputs": [
    {
     "name": "stdout",
     "output_type": "stream",
     "text": [
      "Label mapping saved to label_mapping.json\n"
     ]
    }
   ],
   "source": [
    "import pandas as pd\n",
    "import json\n",
    "from sklearn.preprocessing import LabelEncoder\n",
    "\n",
    "# Load Dataset\n",
    "data = pd.read_csv(\"Crop_recommendation.csv\")\n",
    "\n",
    "# Encode Crop Labels\n",
    "le = LabelEncoder()\n",
    "data['label'] = le.fit_transform(data['label'])\n",
    "\n",
    "# Create Mapping of Index to Crop Name\n",
    "label_mapping = {index: crop for index, crop in enumerate(le.classes_)}\n",
    "\n",
    "# Save Mapping as JSON\n",
    "with open(\"label_mapping.json\", \"w\") as f:\n",
    "    json.dump(label_mapping, f, indent=4)\n",
    "\n",
    "print(\"Label mapping saved to label_mapping.json\")\n",
    "\n"
   ]
  }
 ],
 "metadata": {
  "kernelspec": {
   "display_name": "crop_env",
   "language": "python",
   "name": "python3"
  },
  "language_info": {
   "codemirror_mode": {
    "name": "ipython",
    "version": 3
   },
   "file_extension": ".py",
   "mimetype": "text/x-python",
   "name": "python",
   "nbconvert_exporter": "python",
   "pygments_lexer": "ipython3",
   "version": "3.13.1"
  }
 },
 "nbformat": 4,
 "nbformat_minor": 5
}
